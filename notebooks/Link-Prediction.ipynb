{
 "cells": [
  {
   "cell_type": "code",
   "execution_count": 1,
   "metadata": {
    "collapsed": true
   },
   "outputs": [],
   "source": [
    "import numpy as np\n",
    "import networkx as nx\n",
    "import sys\n",
    "\n",
    "from sklearn import metrics\n",
    "from sklearn.model_selection import train_test_split\n",
    "from gensim.models import Word2Vec\n",
    "from sklearn import linear_model\n",
    "\n",
    "import matplotlib.pyplot as plt\n",
    "%matplotlib inline"
   ]
  },
  {
   "cell_type": "code",
   "execution_count": 2,
   "metadata": {},
   "outputs": [
    {
     "name": "stderr",
     "output_type": "stream",
     "text": [
      "--2017-07-18 02:43:58--  http://snap.stanford.edu/data/facebook_combined.txt.gz\n",
      "Resolving snap.stanford.edu (snap.stanford.edu)... 171.64.75.80\n",
      "Connecting to snap.stanford.edu (snap.stanford.edu)|171.64.75.80|:80... connected.\n",
      "HTTP request sent, awaiting response... 200 OK\n",
      "Length: 218576 (213K) [application/x-gzip]\n",
      "Saving to: ‘facebook_combined.txt.gz’\n",
      "\n",
      "     0K .......... .......... .......... .......... .......... 23% 97,6K 2s\n",
      "    50K .......... .......... .......... .......... .......... 46%  162K 1s\n",
      "   100K .......... .......... .......... .......... .......... 70%  163K 0s\n",
      "   150K .......... .......... .......... .......... .......... 93% 13,1M 0s\n",
      "   200K .......... ...                                        100% 44,7K=1,4s\n",
      "\n",
      "2017-07-18 02:44:01 (149 KB/s) - ‘facebook_combined.txt.gz’ saved [218576/218576]\n",
      "\n"
     ]
    }
   ],
   "source": [
    "%%bash\n",
    "wget -N http://snap.stanford.edu/data/facebook_combined.txt.gz\n",
    "gunzip -f facebook_combined.txt.gz"
   ]
  },
  {
   "cell_type": "code",
   "execution_count": 3,
   "metadata": {
    "collapsed": true
   },
   "outputs": [],
   "source": [
    "def train_test_split_graph(G):\n",
    "    trainG = nx.minimum_spanning_tree(G)\n",
    "    diff = nx.difference(G, trainG)\n",
    "\n",
    "    \n",
    "    train, test = train_test_split(diff.edges(), test_size=G.number_of_edges()/2)\n",
    "    \n",
    "    trainG.add_edges_from(train)\n",
    "    \n",
    "    testG = nx.Graph()\n",
    "    testG.add_edges_from(test)\n",
    "    \n",
    "    return trainG, testG"
   ]
  },
  {
   "cell_type": "code",
   "execution_count": 4,
   "metadata": {
    "collapsed": true
   },
   "outputs": [],
   "source": [
    "def generate_neg_edges(G, size):\n",
    "    negEdges = set()\n",
    "\n",
    "    while len(negEdges) < size:\n",
    "        n1 = np.random.choice(G.nodes())\n",
    "        n2 = np.random.choice(G.nodes())\n",
    "        if not (G.has_edge(n1,n2) or n1 == n2):\n",
    "            if n1<n2:\n",
    "                negEdges.add((n1,n2))  \n",
    "            else:\n",
    "                negEdges.add((n2,n1))\n",
    "    return negEdges"
   ]
  },
  {
   "cell_type": "code",
   "execution_count": 5,
   "metadata": {
    "collapsed": true
   },
   "outputs": [],
   "source": [
    "def get_n2v_model(G, walk_length=80, number_of_walks=10, d=128):\n",
    "    \n",
    "    walks =[]\n",
    "    for i in range(number_of_walks):\n",
    "        for node in G.nodes():\n",
    "            walk = [node]\n",
    "            next_node = node\n",
    "            for j in range(walk_length):\n",
    "                neigs = G.neighbors(next_node)\n",
    "                if len(neigs) == 0:\n",
    "                    break\n",
    "                next_node = np.random.choice(neigs)\n",
    "                walk.append(next_node)\n",
    "            walks.append(walk)\n",
    "\n",
    "    # Gensim needs str input\n",
    "    walks = [map(str, walk) for walk in walks]\n",
    "    model = Word2Vec(walks, size=d, window=10, min_count=0, sg=1, workers=8, iter=1)\n",
    "    \n",
    "    return model"
   ]
  },
  {
   "cell_type": "code",
   "execution_count": 6,
   "metadata": {
    "collapsed": true
   },
   "outputs": [],
   "source": [
    "def get_edge_vectors(neg_edges, pos_edges, model):\n",
    "    negs = [np.multiply(model[str(e[0])],model[str(e[1])]) for e in neg_edges]\n",
    "    poss = [np.multiply(model[str(e[0])],model[str(e[1])]) for e in pos_edges]\n",
    "    \n",
    "    X = negs + poss\n",
    "    Y = np.append(np.repeat(0, len(negs)), np.repeat(1, len(poss)))\n",
    "    return X, Y"
   ]
  },
  {
   "cell_type": "code",
   "execution_count": 7,
   "metadata": {
    "collapsed": true
   },
   "outputs": [],
   "source": [
    "G = nx.read_edgelist('facebook_combined.txt')\n",
    "trainG, testG = train_test_split_graph(G)\n",
    "\n",
    "train_neg = generate_neg_edges(trainG, G.number_of_edges()/2)\n",
    "test_neg = generate_neg_edges(G, G.number_of_edges()/2)"
   ]
  },
  {
   "cell_type": "code",
   "execution_count": 8,
   "metadata": {},
   "outputs": [],
   "source": [
    "model = get_n2v_model(trainG)"
   ]
  },
  {
   "cell_type": "code",
   "execution_count": 9,
   "metadata": {},
   "outputs": [
    {
     "data": {
      "text/plain": [
       "0.81461047642428364"
      ]
     },
     "execution_count": 9,
     "metadata": {},
     "output_type": "execute_result"
    }
   ],
   "source": [
    "X_train, Y_train = get_edge_vectors(trainG.edges(), train_neg, model)\n",
    "X_test, Y_test = get_edge_vectors(testG.edges(), test_neg, model)\n",
    "\n",
    "regr = linear_model.LinearRegression()\n",
    "regr.fit(X_train, Y_train)\n",
    "regr.score(X_test, Y_test) "
   ]
  },
  {
   "cell_type": "code",
   "execution_count": 10,
   "metadata": {},
   "outputs": [
    {
     "data": {
      "text/plain": [
       "<matplotlib.legend.Legend at 0x7f2614965890>"
      ]
     },
     "execution_count": 10,
     "metadata": {},
     "output_type": "execute_result"
    },
    {
     "data": {
      "image/png": "[encoded data removed]",
      "text/plain": [
       "<matplotlib.figure.Figure at 0x7f26149657d0>"
      ]
     },
     "metadata": {},
     "output_type": "display_data"
    }
   ],
   "source": [
    "pred = regr.predict(X_test)\n",
    "auc = metrics.roc_auc_score(Y_test, pred)\n",
    "fpr, tpr, thresh = metrics.roc_curve(Y_test, pred)\n",
    "\n",
    "\n",
    "plt.plot(fpr,tpr,label=\"linear regression, auc=\"+str(auc))\n",
    "plt.plot([0, 1], [0, 1], color='navy', lw=2, linestyle='--')\n",
    "\n",
    "plt.xlim([0.0, 1.0])\n",
    "plt.ylim([0.0, 1.05])\n",
    "plt.xlabel('False Positive Rate')\n",
    "plt.ylabel('True Positive Rate')\n",
    "\n",
    "plt.legend(loc=4)"
   ]
  },
  {
   "cell_type": "code",
   "execution_count": null,
   "metadata": {
    "collapsed": true
   },
   "outputs": [],
   "source": []
  },
  {
   "cell_type": "code",
   "execution_count": null,
   "metadata": {
    "collapsed": true
   },
   "outputs": [],
   "source": []
  },
  {
   "cell_type": "code",
   "execution_count": null,
   "metadata": {
    "collapsed": true
   },
   "outputs": [],
   "source": []
  },
  {
   "cell_type": "code",
   "execution_count": null,
   "metadata": {
    "collapsed": true
   },
   "outputs": [],
   "source": []
  },
  {
   "cell_type": "code",
   "execution_count": null,
   "metadata": {
    "collapsed": true
   },
   "outputs": [],
   "source": []
  },
  {
   "cell_type": "code",
   "execution_count": null,
   "metadata": {
    "collapsed": true
   },
   "outputs": [],
   "source": []
  },
  {
   "cell_type": "code",
   "execution_count": null,
   "metadata": {
    "collapsed": true
   },
   "outputs": [],
   "source": []
  },
  {
   "cell_type": "code",
   "execution_count": null,
   "metadata": {
    "collapsed": true
   },
   "outputs": [],
   "source": []
  },
  {
   "cell_type": "code",
   "execution_count": null,
   "metadata": {},
   "outputs": [],
   "source": []
  }
 ],
 "metadata": {
  "kernelspec": {
   "display_name": "Python 2",
   "language": "python",
   "name": "python2"
  },
  "language_info": {
   "codemirror_mode": {
    "name": "ipython",
    "version": 2
   },
   "file_extension": ".py",
   "mimetype": "text/x-python",
   "name": "python",
   "nbconvert_exporter": "python",
   "pygments_lexer": "ipython2",
   "version": "2.7.12"
  }
 },
 "nbformat": 4,
 "nbformat_minor": 2
}
